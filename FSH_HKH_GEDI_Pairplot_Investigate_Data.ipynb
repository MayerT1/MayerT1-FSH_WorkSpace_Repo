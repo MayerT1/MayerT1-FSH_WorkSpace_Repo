{
  "nbformat": 4,
  "nbformat_minor": 0,
  "metadata": {
    "colab": {
      "name": "FSH_HKH_GEDI_Pairplot_Investigate_Data.ipynb",
      "provenance": [],
      "collapsed_sections": [],
      "toc_visible": true,
      "authorship_tag": "ABX9TyOtSZxoJAqeBxNS+CKROPpH",
      "include_colab_link": true
    },
    "kernelspec": {
      "name": "python3",
      "display_name": "Python 3"
    }
  },
  "cells": [
    {
      "cell_type": "markdown",
      "metadata": {
        "id": "view-in-github",
        "colab_type": "text"
      },
      "source": [
        "<a href=\"https://colab.research.google.com/github/MayerT1/MayerT1-FSH_WorkSpace_Repo/blob/master/FSH_HKH_GEDI_Pairplot_Investigate_Data.ipynb\" target=\"_parent\"><img src=\"https://colab.research.google.com/assets/colab-badge.svg\" alt=\"Open In Colab\"/></a>"
      ]
    },
    {
      "cell_type": "markdown",
      "metadata": {
        "id": "rok5EAySHdOI",
        "colab_type": "text"
      },
      "source": [
        "# Setup"
      ]
    },
    {
      "cell_type": "code",
      "metadata": {
        "id": "rD4edSErBYG3",
        "colab_type": "code",
        "outputId": "5cba5027-2904-4111-d5c8-118add3f4ec0",
        "colab": {
          "base_uri": "https://localhost:8080/",
          "height": 120
        }
      },
      "source": [
        "import os, sys\n",
        "from google.colab import drive\n",
        "drive.mount('/content/mnt')\n",
        "nb_path = '/content/notebooks'\n",
        "#create a symbolic link for pointing to /content/mnt/My Drive/Colab Notebooks\n",
        "os.symlink('/content/mnt/My Drive/Colab Notebooks', nb_path)\n",
        "sys.path.insert(0, nb_path) "
      ],
      "execution_count": 2,
      "outputs": [
        {
          "output_type": "stream",
          "text": [
            "Go to this URL in a browser: https://accounts.google.com/o/oauth2/auth?client_id=947318989803-6bn6qk8qdgf4n4g3pfee6491hc0brc4i.apps.googleusercontent.com&redirect_uri=urn%3aietf%3awg%3aoauth%3a2.0%3aoob&response_type=code&scope=email%20https%3a%2f%2fwww.googleapis.com%2fauth%2fdocs.test%20https%3a%2f%2fwww.googleapis.com%2fauth%2fdrive%20https%3a%2f%2fwww.googleapis.com%2fauth%2fdrive.photos.readonly%20https%3a%2f%2fwww.googleapis.com%2fauth%2fpeopleapi.readonly\n",
            "\n",
            "Enter your authorization code:\n",
            "··········\n",
            "Mounted at /content/mnt\n"
          ],
          "name": "stdout"
        }
      ]
    },
    {
      "cell_type": "code",
      "metadata": {
        "id": "1FNsGmyZB4yL",
        "colab_type": "code",
        "colab": {}
      },
      "source": [
        "%cd /content/notebooks/\n",
        "!ls"
      ],
      "execution_count": 0,
      "outputs": []
    },
    {
      "cell_type": "code",
      "metadata": {
        "id": "i89TzQdGCHOP",
        "colab_type": "code",
        "outputId": "5f91f21f-2fca-4331-aaff-179cde48d8e8",
        "colab": {
          "base_uri": "https://localhost:8080/",
          "height": 50
        }
      },
      "source": [
        "from google.colab import files\n",
        "\n",
        "import seaborn as sns\n",
        "\n",
        "import pandas as pd\n",
        "from pandas import DataFrame\n",
        "\n",
        "import numpy as np\n",
        "from numpy import random\n",
        "\n"
      ],
      "execution_count": 4,
      "outputs": [
        {
          "output_type": "stream",
          "text": [
            "/usr/local/lib/python3.6/dist-packages/statsmodels/tools/_testing.py:19: FutureWarning: pandas.util.testing is deprecated. Use the functions in the public API at pandas.testing instead.\n",
            "  import pandas.util.testing as tm\n"
          ],
          "name": "stderr"
        }
      ]
    },
    {
      "cell_type": "markdown",
      "metadata": {
        "id": "BJw_yz0cUM7r",
        "colab_type": "text"
      },
      "source": [
        "# HKH Dataframe--- Clipped_GEDI02_B_2019207183831_O03508_T05323_02_001_01.csv"
      ]
    },
    {
      "cell_type": "code",
      "metadata": {
        "id": "83ZIwwRUB-g3",
        "colab_type": "code",
        "outputId": "e81f1f8c-0d67-445e-b465-344da7880ed4",
        "colab": {
          "base_uri": "https://localhost:8080/",
          "height": 677
        }
      },
      "source": [
        "df = pd.read_csv('Clipped_GEDI02_B_2019207183831_O03508_T05323_02_001_01.csv')\n",
        "\n",
        "#GEDI02_B_2019191143003_O03257_T01491_02_001_01\n",
        "display(df)\n",
        "##describe\n",
        "df.describe()\n",
        "##hightlight max\n",
        "#df.style.highlight_max()"
      ],
      "execution_count": 12,
      "outputs": [
        {
          "output_type": "display_data",
          "data": {
            "text/html": [
              "<div>\n",
              "<style scoped>\n",
              "    .dataframe tbody tr th:only-of-type {\n",
              "        vertical-align: middle;\n",
              "    }\n",
              "\n",
              "    .dataframe tbody tr th {\n",
              "        vertical-align: top;\n",
              "    }\n",
              "\n",
              "    .dataframe thead th {\n",
              "        text-align: right;\n",
              "    }\n",
              "</style>\n",
              "<table border=\"1\" class=\"dataframe\">\n",
              "  <thead>\n",
              "    <tr style=\"text-align: right;\">\n",
              "      <th></th>\n",
              "      <th>latitude_b</th>\n",
              "      <th>longitude_</th>\n",
              "      <th>height_bin</th>\n",
              "    </tr>\n",
              "  </thead>\n",
              "  <tbody>\n",
              "    <tr>\n",
              "      <th>0</th>\n",
              "      <td>28.925897</td>\n",
              "      <td>80.189029</td>\n",
              "      <td>-9999.0</td>\n",
              "    </tr>\n",
              "    <tr>\n",
              "      <th>1</th>\n",
              "      <td>28.925517</td>\n",
              "      <td>80.189426</td>\n",
              "      <td>-9999.0</td>\n",
              "    </tr>\n",
              "    <tr>\n",
              "      <th>2</th>\n",
              "      <td>28.924757</td>\n",
              "      <td>80.190222</td>\n",
              "      <td>-9999.0</td>\n",
              "    </tr>\n",
              "    <tr>\n",
              "      <th>3</th>\n",
              "      <td>28.924377</td>\n",
              "      <td>80.190620</td>\n",
              "      <td>-9999.0</td>\n",
              "    </tr>\n",
              "    <tr>\n",
              "      <th>4</th>\n",
              "      <td>28.923997</td>\n",
              "      <td>80.191018</td>\n",
              "      <td>-9999.0</td>\n",
              "    </tr>\n",
              "    <tr>\n",
              "      <th>...</th>\n",
              "      <td>...</td>\n",
              "      <td>...</td>\n",
              "      <td>...</td>\n",
              "    </tr>\n",
              "    <tr>\n",
              "      <th>751</th>\n",
              "      <td>28.878345</td>\n",
              "      <td>80.196305</td>\n",
              "      <td>-9999.0</td>\n",
              "    </tr>\n",
              "    <tr>\n",
              "      <th>752</th>\n",
              "      <td>28.877965</td>\n",
              "      <td>80.196703</td>\n",
              "      <td>-9999.0</td>\n",
              "    </tr>\n",
              "    <tr>\n",
              "      <th>753</th>\n",
              "      <td>28.877586</td>\n",
              "      <td>80.197100</td>\n",
              "      <td>-9999.0</td>\n",
              "    </tr>\n",
              "    <tr>\n",
              "      <th>754</th>\n",
              "      <td>28.877206</td>\n",
              "      <td>80.197497</td>\n",
              "      <td>-9999.0</td>\n",
              "    </tr>\n",
              "    <tr>\n",
              "      <th>755</th>\n",
              "      <td>28.876826</td>\n",
              "      <td>80.197894</td>\n",
              "      <td>-9999.0</td>\n",
              "    </tr>\n",
              "  </tbody>\n",
              "</table>\n",
              "<p>756 rows × 3 columns</p>\n",
              "</div>"
            ],
            "text/plain": [
              "     latitude_b  longitude_  height_bin\n",
              "0     28.925897   80.189029     -9999.0\n",
              "1     28.925517   80.189426     -9999.0\n",
              "2     28.924757   80.190222     -9999.0\n",
              "3     28.924377   80.190620     -9999.0\n",
              "4     28.923997   80.191018     -9999.0\n",
              "..          ...         ...         ...\n",
              "751   28.878345   80.196305     -9999.0\n",
              "752   28.877965   80.196703     -9999.0\n",
              "753   28.877586   80.197100     -9999.0\n",
              "754   28.877206   80.197497     -9999.0\n",
              "755   28.876826   80.197894     -9999.0\n",
              "\n",
              "[756 rows x 3 columns]"
            ]
          },
          "metadata": {
            "tags": []
          }
        },
        {
          "output_type": "execute_result",
          "data": {
            "text/html": [
              "<div>\n",
              "<style scoped>\n",
              "    .dataframe tbody tr th:only-of-type {\n",
              "        vertical-align: middle;\n",
              "    }\n",
              "\n",
              "    .dataframe tbody tr th {\n",
              "        vertical-align: top;\n",
              "    }\n",
              "\n",
              "    .dataframe thead th {\n",
              "        text-align: right;\n",
              "    }\n",
              "</style>\n",
              "<table border=\"1\" class=\"dataframe\">\n",
              "  <thead>\n",
              "    <tr style=\"text-align: right;\">\n",
              "      <th></th>\n",
              "      <th>latitude_b</th>\n",
              "      <th>longitude_</th>\n",
              "      <th>height_bin</th>\n",
              "    </tr>\n",
              "  </thead>\n",
              "  <tbody>\n",
              "    <tr>\n",
              "      <th>count</th>\n",
              "      <td>756.000000</td>\n",
              "      <td>756.000000</td>\n",
              "      <td>756.0</td>\n",
              "    </tr>\n",
              "    <tr>\n",
              "      <th>mean</th>\n",
              "      <td>28.900927</td>\n",
              "      <td>80.195029</td>\n",
              "      <td>-9999.0</td>\n",
              "    </tr>\n",
              "    <tr>\n",
              "      <th>std</th>\n",
              "      <td>0.013935</td>\n",
              "      <td>0.019918</td>\n",
              "      <td>0.0</td>\n",
              "    </tr>\n",
              "    <tr>\n",
              "      <th>min</th>\n",
              "      <td>28.876826</td>\n",
              "      <td>80.152181</td>\n",
              "      <td>-9999.0</td>\n",
              "    </tr>\n",
              "    <tr>\n",
              "      <th>25%</th>\n",
              "      <td>28.888931</td>\n",
              "      <td>80.180807</td>\n",
              "      <td>-9999.0</td>\n",
              "    </tr>\n",
              "    <tr>\n",
              "      <th>50%</th>\n",
              "      <td>28.900822</td>\n",
              "      <td>80.194778</td>\n",
              "      <td>-9999.0</td>\n",
              "    </tr>\n",
              "    <tr>\n",
              "      <th>75%</th>\n",
              "      <td>28.912891</td>\n",
              "      <td>80.209811</td>\n",
              "      <td>-9999.0</td>\n",
              "    </tr>\n",
              "    <tr>\n",
              "      <th>max</th>\n",
              "      <td>28.925897</td>\n",
              "      <td>80.239197</td>\n",
              "      <td>-9999.0</td>\n",
              "    </tr>\n",
              "  </tbody>\n",
              "</table>\n",
              "</div>"
            ],
            "text/plain": [
              "       latitude_b  longitude_  height_bin\n",
              "count  756.000000  756.000000       756.0\n",
              "mean    28.900927   80.195029     -9999.0\n",
              "std      0.013935    0.019918         0.0\n",
              "min     28.876826   80.152181     -9999.0\n",
              "25%     28.888931   80.180807     -9999.0\n",
              "50%     28.900822   80.194778     -9999.0\n",
              "75%     28.912891   80.209811     -9999.0\n",
              "max     28.925897   80.239197     -9999.0"
            ]
          },
          "metadata": {
            "tags": []
          },
          "execution_count": 12
        }
      ]
    },
    {
      "cell_type": "code",
      "metadata": {
        "id": "FvvwhVkvMpy7",
        "colab_type": "code",
        "colab": {}
      },
      "source": [
        "list(df.columns.values)"
      ],
      "execution_count": 0,
      "outputs": []
    },
    {
      "cell_type": "markdown",
      "metadata": {
        "id": "pOfBI5VQikOx",
        "colab_type": "text"
      },
      "source": [
        "## height_bin"
      ]
    },
    {
      "cell_type": "code",
      "metadata": {
        "id": "vIJkCY6iixqz",
        "colab_type": "code",
        "outputId": "a934c157-5ee9-40c9-a218-b179f8273cfd",
        "colab": {
          "base_uri": "https://localhost:8080/",
          "height": 684
        }
      },
      "source": [
        "# Filter all rows for which the player's \n",
        "# age is greater than or equal to 25 \n",
        "#df_filtered = df[df['height_bin'] >= 0#] \n",
        "df_filtered = df[df['height_bin'] != -9999] \n",
        "  \n",
        "# Print the new dataframe \n",
        "#print(df_filtered.head(15)) \n",
        "  \n",
        "# Print the shape of the dataframe \n",
        "#print(df_filtered.shape) \n",
        "\n",
        "\n",
        "\n",
        "# Import library and dataset\n",
        "import seaborn as sns\n",
        " \n",
        "Height_df = df_filtered.loc[:,'height_bin']\n",
        "display(Height_df)\n",
        "\n",
        "\n",
        "# Control the number of bins\n",
        "sns.distplot(Height_df, bins=20 )\n",
        "\n",
        "\n",
        "# # # Make boxplot for one group only\n",
        "# sns.boxplot( y=df[\"height_bin0\"] )\n",
        "# sns.plt.show()\n",
        "\n",
        "\n",
        "##sum stat\n",
        "print(\"sum stat\")\n",
        "df_filtered[[\"height_bin\"]].describe()\n",
        "\n"
      ],
      "execution_count": 13,
      "outputs": [
        {
          "output_type": "display_data",
          "data": {
            "text/plain": [
              "Series([], Name: height_bin, dtype: float64)"
            ]
          },
          "metadata": {
            "tags": []
          }
        },
        {
          "output_type": "stream",
          "text": [
            "sum stat\n"
          ],
          "name": "stdout"
        },
        {
          "output_type": "stream",
          "text": [
            "/usr/local/lib/python3.6/dist-packages/seaborn/distributions.py:198: RuntimeWarning: Mean of empty slice.\n",
            "  line, = ax.plot(a.mean(), 0)\n",
            "/usr/local/lib/python3.6/dist-packages/numpy/core/_methods.py:161: RuntimeWarning: invalid value encountered in double_scalars\n",
            "  ret = ret.dtype.type(ret / rcount)\n",
            "/usr/local/lib/python3.6/dist-packages/numpy/lib/histograms.py:908: RuntimeWarning: invalid value encountered in true_divide\n",
            "  return n/db/n.sum(), bin_edges\n"
          ],
          "name": "stderr"
        },
        {
          "output_type": "execute_result",
          "data": {
            "text/html": [
              "<div>\n",
              "<style scoped>\n",
              "    .dataframe tbody tr th:only-of-type {\n",
              "        vertical-align: middle;\n",
              "    }\n",
              "\n",
              "    .dataframe tbody tr th {\n",
              "        vertical-align: top;\n",
              "    }\n",
              "\n",
              "    .dataframe thead th {\n",
              "        text-align: right;\n",
              "    }\n",
              "</style>\n",
              "<table border=\"1\" class=\"dataframe\">\n",
              "  <thead>\n",
              "    <tr style=\"text-align: right;\">\n",
              "      <th></th>\n",
              "      <th>height_bin</th>\n",
              "    </tr>\n",
              "  </thead>\n",
              "  <tbody>\n",
              "    <tr>\n",
              "      <th>count</th>\n",
              "      <td>0.0</td>\n",
              "    </tr>\n",
              "    <tr>\n",
              "      <th>mean</th>\n",
              "      <td>NaN</td>\n",
              "    </tr>\n",
              "    <tr>\n",
              "      <th>std</th>\n",
              "      <td>NaN</td>\n",
              "    </tr>\n",
              "    <tr>\n",
              "      <th>min</th>\n",
              "      <td>NaN</td>\n",
              "    </tr>\n",
              "    <tr>\n",
              "      <th>25%</th>\n",
              "      <td>NaN</td>\n",
              "    </tr>\n",
              "    <tr>\n",
              "      <th>50%</th>\n",
              "      <td>NaN</td>\n",
              "    </tr>\n",
              "    <tr>\n",
              "      <th>75%</th>\n",
              "      <td>NaN</td>\n",
              "    </tr>\n",
              "    <tr>\n",
              "      <th>max</th>\n",
              "      <td>NaN</td>\n",
              "    </tr>\n",
              "  </tbody>\n",
              "</table>\n",
              "</div>"
            ],
            "text/plain": [
              "       height_bin\n",
              "count         0.0\n",
              "mean          NaN\n",
              "std           NaN\n",
              "min           NaN\n",
              "25%           NaN\n",
              "50%           NaN\n",
              "75%           NaN\n",
              "max           NaN"
            ]
          },
          "metadata": {
            "tags": []
          },
          "execution_count": 13
        },
        {
          "output_type": "display_data",
          "data": {
            "image/png": "[encoded data removed]",
            "text/plain": [
              "<Figure size 432x288 with 1 Axes>"
            ]
          },
          "metadata": {
            "tags": [],
            "needs_background": "light"
          }
        }
      ]
    }
  ]
}