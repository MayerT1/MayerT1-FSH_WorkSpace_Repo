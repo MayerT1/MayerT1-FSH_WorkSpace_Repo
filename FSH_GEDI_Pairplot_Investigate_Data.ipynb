{
  "nbformat": 4,
  "nbformat_minor": 0,
  "metadata": {
    "colab": {
      "name": "FSH_GEDI_Pairplot_Investigate_Data.ipynb",
      "provenance": [],
      "collapsed_sections": [],
      "toc_visible": true,
      "authorship_tag": "ABX9TyMR24CMKLWQOS59sdstuQOM",
      "include_colab_link": true
    },
    "kernelspec": {
      "name": "python3",
      "display_name": "Python 3"
    }
  },
  "cells": [
    {
      "cell_type": "markdown",
      "metadata": {
        "id": "view-in-github",
        "colab_type": "text"
      },
      "source": [
        "<a href=\"https://colab.research.google.com/github/MayerT1/MayerT1-FSH_WorkSpace_Repo/blob/master/FSH_GEDI_Pairplot_Investigate_Data.ipynb\" target=\"_parent\"><img src=\"https://colab.research.google.com/assets/colab-badge.svg\" alt=\"Open In Colab\"/></a>"
      ]
    },
    {
      "cell_type": "markdown",
      "metadata": {
        "id": "rok5EAySHdOI",
        "colab_type": "text"
      },
      "source": [
        "# Setup"
      ]
    },
    {
      "cell_type": "code",
      "metadata": {
        "id": "rD4edSErBYG3",
        "colab_type": "code",
        "outputId": "0172b63e-c27a-4cd9-94e9-8d850c7ad6a7",
        "colab": {
          "base_uri": "https://localhost:8080/",
          "height": 120
        }
      },
      "source": [
        "import os, sys\n",
        "from google.colab import drive\n",
        "drive.mount('/content/mnt')\n",
        "nb_path = '/content/notebooks'\n",
        "#create a symbolic link for pointing to /content/mnt/My Drive/Colab Notebooks\n",
        "os.symlink('/content/mnt/My Drive/Colab Notebooks', nb_path)\n",
        "sys.path.insert(0, nb_path) "
      ],
      "execution_count": 1,
      "outputs": [
        {
          "output_type": "stream",
          "text": [
            "Go to this URL in a browser: https://accounts.google.com/o/oauth2/auth?client_id=947318989803-6bn6qk8qdgf4n4g3pfee6491hc0brc4i.apps.googleusercontent.com&redirect_uri=urn%3aietf%3awg%3aoauth%3a2.0%3aoob&response_type=code&scope=email%20https%3a%2f%2fwww.googleapis.com%2fauth%2fdocs.test%20https%3a%2f%2fwww.googleapis.com%2fauth%2fdrive%20https%3a%2f%2fwww.googleapis.com%2fauth%2fdrive.photos.readonly%20https%3a%2f%2fwww.googleapis.com%2fauth%2fpeopleapi.readonly\n",
            "\n",
            "Enter your authorization code:\n",
            "··········\n",
            "Mounted at /content/mnt\n"
          ],
          "name": "stdout"
        }
      ]
    },
    {
      "cell_type": "code",
      "metadata": {
        "id": "1FNsGmyZB4yL",
        "colab_type": "code",
        "colab": {}
      },
      "source": [
        "%cd /content/notebooks/\n",
        "!ls"
      ],
      "execution_count": 0,
      "outputs": []
    },
    {
      "cell_type": "code",
      "metadata": {
        "id": "i89TzQdGCHOP",
        "colab_type": "code",
        "outputId": "a2700645-75ec-4045-8bc9-6c8b576528e6",
        "colab": {
          "base_uri": "https://localhost:8080/",
          "height": 70
        }
      },
      "source": [
        "from google.colab import files\n",
        "\n",
        "import seaborn as sns\n",
        "\n",
        "import pandas as pd\n",
        "from pandas import DataFrame\n",
        "\n",
        "import numpy as np\n",
        "from numpy import random\n",
        "\n"
      ],
      "execution_count": 4,
      "outputs": [
        {
          "output_type": "stream",
          "text": [
            "/usr/local/lib/python3.6/dist-packages/statsmodels/tools/_testing.py:19: FutureWarning: pandas.util.testing is deprecated. Use the functions in the public API at pandas.testing instead.\n",
            "  import pandas.util.testing as tm\n"
          ],
          "name": "stderr"
        }
      ]
    },
    {
      "cell_type": "markdown",
      "metadata": {
        "id": "BJw_yz0cUM7r",
        "colab_type": "text"
      },
      "source": [
        "# Dataframe--- GEDI02_B_2019198211434_O03370_T02354_02_001_01"
      ]
    },
    {
      "cell_type": "code",
      "metadata": {
        "id": "83ZIwwRUB-g3",
        "colab_type": "code",
        "outputId": "4bc82cb0-e70b-4b79-e8e6-3749960e3322",
        "colab": {
          "base_uri": "https://localhost:8080/",
          "height": 677
        }
      },
      "source": [
        "df = pd.read_csv('GEDI02_B_2019198211434_O03370_T02354_02_001_01.csv')\n",
        "#GEDI02_B_2019198211434_O03370_T02354_02_001_01\n",
        "\n",
        "\n",
        "#GEDI02_B_2019191143003_O03257_T01491_02_001_01\n",
        "display(df)\n",
        "##describe\n",
        "df.describe()\n",
        "##hightlight max\n",
        "#df.style.highlight_max()"
      ],
      "execution_count": 13,
      "outputs": [
        {
          "output_type": "display_data",
          "data": {
            "text/html": [
              "<div>\n",
              "<style scoped>\n",
              "    .dataframe tbody tr th:only-of-type {\n",
              "        vertical-align: middle;\n",
              "    }\n",
              "\n",
              "    .dataframe tbody tr th {\n",
              "        vertical-align: top;\n",
              "    }\n",
              "\n",
              "    .dataframe thead th {\n",
              "        text-align: right;\n",
              "    }\n",
              "</style>\n",
              "<table border=\"1\" class=\"dataframe\">\n",
              "  <thead>\n",
              "    <tr style=\"text-align: right;\">\n",
              "      <th></th>\n",
              "      <th>latitude_bin0</th>\n",
              "      <th>longitude_bin0</th>\n",
              "      <th>height_bin0</th>\n",
              "    </tr>\n",
              "  </thead>\n",
              "  <tbody>\n",
              "    <tr>\n",
              "      <th>0</th>\n",
              "      <td>-38.461961</td>\n",
              "      <td>-86.165724</td>\n",
              "      <td>-9999.0</td>\n",
              "    </tr>\n",
              "    <tr>\n",
              "      <th>1</th>\n",
              "      <td>-38.461796</td>\n",
              "      <td>-86.165471</td>\n",
              "      <td>-9999.0</td>\n",
              "    </tr>\n",
              "    <tr>\n",
              "      <th>2</th>\n",
              "      <td>-38.461634</td>\n",
              "      <td>-86.165222</td>\n",
              "      <td>-9999.0</td>\n",
              "    </tr>\n",
              "    <tr>\n",
              "      <th>3</th>\n",
              "      <td>-38.461471</td>\n",
              "      <td>-86.164970</td>\n",
              "      <td>-9999.0</td>\n",
              "    </tr>\n",
              "    <tr>\n",
              "      <th>4</th>\n",
              "      <td>-38.461306</td>\n",
              "      <td>-86.164717</td>\n",
              "      <td>-9999.0</td>\n",
              "    </tr>\n",
              "    <tr>\n",
              "      <th>...</th>\n",
              "      <td>...</td>\n",
              "      <td>...</td>\n",
              "      <td>...</td>\n",
              "    </tr>\n",
              "    <tr>\n",
              "      <th>4897908</th>\n",
              "      <td>-49.699118</td>\n",
              "      <td>-179.461988</td>\n",
              "      <td>-9999.0</td>\n",
              "    </tr>\n",
              "    <tr>\n",
              "      <th>4897909</th>\n",
              "      <td>-49.699273</td>\n",
              "      <td>-179.461238</td>\n",
              "      <td>-9999.0</td>\n",
              "    </tr>\n",
              "    <tr>\n",
              "      <th>4897910</th>\n",
              "      <td>-49.699427</td>\n",
              "      <td>-179.460487</td>\n",
              "      <td>-9999.0</td>\n",
              "    </tr>\n",
              "    <tr>\n",
              "      <th>4897911</th>\n",
              "      <td>-49.699582</td>\n",
              "      <td>-179.459737</td>\n",
              "      <td>-9999.0</td>\n",
              "    </tr>\n",
              "    <tr>\n",
              "      <th>4897912</th>\n",
              "      <td>-49.699737</td>\n",
              "      <td>-179.458986</td>\n",
              "      <td>-9999.0</td>\n",
              "    </tr>\n",
              "  </tbody>\n",
              "</table>\n",
              "<p>4897913 rows × 3 columns</p>\n",
              "</div>"
            ],
            "text/plain": [
              "         latitude_bin0  longitude_bin0  height_bin0\n",
              "0           -38.461961      -86.165724      -9999.0\n",
              "1           -38.461796      -86.165471      -9999.0\n",
              "2           -38.461634      -86.165222      -9999.0\n",
              "3           -38.461471      -86.164970      -9999.0\n",
              "4           -38.461306      -86.164717      -9999.0\n",
              "...                ...             ...          ...\n",
              "4897908     -49.699118     -179.461988      -9999.0\n",
              "4897909     -49.699273     -179.461238      -9999.0\n",
              "4897910     -49.699427     -179.460487      -9999.0\n",
              "4897911     -49.699582     -179.459737      -9999.0\n",
              "4897912     -49.699737     -179.458986      -9999.0\n",
              "\n",
              "[4897913 rows x 3 columns]"
            ]
          },
          "metadata": {
            "tags": []
          }
        },
        {
          "output_type": "execute_result",
          "data": {
            "text/html": [
              "<div>\n",
              "<style scoped>\n",
              "    .dataframe tbody tr th:only-of-type {\n",
              "        vertical-align: middle;\n",
              "    }\n",
              "\n",
              "    .dataframe tbody tr th {\n",
              "        vertical-align: top;\n",
              "    }\n",
              "\n",
              "    .dataframe thead th {\n",
              "        text-align: right;\n",
              "    }\n",
              "</style>\n",
              "<table border=\"1\" class=\"dataframe\">\n",
              "  <thead>\n",
              "    <tr style=\"text-align: right;\">\n",
              "      <th></th>\n",
              "      <th>latitude_bin0</th>\n",
              "      <th>longitude_bin0</th>\n",
              "      <th>height_bin0</th>\n",
              "    </tr>\n",
              "  </thead>\n",
              "  <tbody>\n",
              "    <tr>\n",
              "      <th>count</th>\n",
              "      <td>4.897912e+06</td>\n",
              "      <td>4.897912e+06</td>\n",
              "      <td>4.897913e+06</td>\n",
              "    </tr>\n",
              "    <tr>\n",
              "      <th>mean</th>\n",
              "      <td>4.938192e+00</td>\n",
              "      <td>4.375342e+01</td>\n",
              "      <td>-4.493370e+03</td>\n",
              "    </tr>\n",
              "    <tr>\n",
              "      <th>std</th>\n",
              "      <td>3.397380e+01</td>\n",
              "      <td>8.659090e+01</td>\n",
              "      <td>4.978179e+03</td>\n",
              "    </tr>\n",
              "    <tr>\n",
              "      <th>min</th>\n",
              "      <td>-5.179254e+01</td>\n",
              "      <td>-1.799999e+02</td>\n",
              "      <td>-9.999000e+03</td>\n",
              "    </tr>\n",
              "    <tr>\n",
              "      <th>25%</th>\n",
              "      <td>-2.585925e+01</td>\n",
              "      <td>-3.606090e+01</td>\n",
              "      <td>-9.999000e+03</td>\n",
              "    </tr>\n",
              "    <tr>\n",
              "      <th>50%</th>\n",
              "      <td>2.339320e+00</td>\n",
              "      <td>6.148598e+01</td>\n",
              "      <td>2.535034e+00</td>\n",
              "    </tr>\n",
              "    <tr>\n",
              "      <th>75%</th>\n",
              "      <td>3.919266e+01</td>\n",
              "      <td>1.187816e+02</td>\n",
              "      <td>3.782431e+00</td>\n",
              "    </tr>\n",
              "    <tr>\n",
              "      <th>max</th>\n",
              "      <td>5.181417e+01</td>\n",
              "      <td>1.800000e+02</td>\n",
              "      <td>1.159616e+02</td>\n",
              "    </tr>\n",
              "  </tbody>\n",
              "</table>\n",
              "</div>"
            ],
            "text/plain": [
              "       latitude_bin0  longitude_bin0   height_bin0\n",
              "count   4.897912e+06    4.897912e+06  4.897913e+06\n",
              "mean    4.938192e+00    4.375342e+01 -4.493370e+03\n",
              "std     3.397380e+01    8.659090e+01  4.978179e+03\n",
              "min    -5.179254e+01   -1.799999e+02 -9.999000e+03\n",
              "25%    -2.585925e+01   -3.606090e+01 -9.999000e+03\n",
              "50%     2.339320e+00    6.148598e+01  2.535034e+00\n",
              "75%     3.919266e+01    1.187816e+02  3.782431e+00\n",
              "max     5.181417e+01    1.800000e+02  1.159616e+02"
            ]
          },
          "metadata": {
            "tags": []
          },
          "execution_count": 13
        }
      ]
    },
    {
      "cell_type": "code",
      "metadata": {
        "id": "FvvwhVkvMpy7",
        "colab_type": "code",
        "colab": {}
      },
      "source": [
        "list(df.columns.values)"
      ],
      "execution_count": 0,
      "outputs": []
    },
    {
      "cell_type": "markdown",
      "metadata": {
        "id": "pOfBI5VQikOx",
        "colab_type": "text"
      },
      "source": [
        "## height_bin0"
      ]
    },
    {
      "cell_type": "code",
      "metadata": {
        "id": "vIJkCY6iixqz",
        "colab_type": "code",
        "outputId": "5d6a95bc-fffc-431e-fb68-18d574a63dd9",
        "colab": {
          "base_uri": "https://localhost:8080/",
          "height": 767
        }
      },
      "source": [
        "# Filter all rows for which the player's \n",
        "# age is greater than or equal to 25 \n",
        "df_filtered = df[df['height_bin0'] >= 0] \n",
        "#df_filtered = df[df['height_bin0'] != -9999] \n",
        "  \n",
        "# Print the new dataframe \n",
        "#print(df_filtered.head(15)) \n",
        "  \n",
        "# Print the shape of the dataframe \n",
        "#print(df_filtered.shape) \n",
        "\n",
        "\n",
        "\n",
        "# Import library and dataset\n",
        "import seaborn as sns\n",
        " \n",
        "Height_df = df_filtered.loc[:,'height_bin0']\n",
        "display(Height_df)\n",
        "\n",
        "\n",
        "# Control the number of bins\n",
        "sns.distplot(Height_df, bins=20 )\n",
        "\n",
        "\n",
        "# # # Make boxplot for one group only\n",
        "# sns.boxplot( y=df[\"height_bin0\"] )\n",
        "# sns.plt.show()\n",
        "\n",
        "\n",
        "##sum stat\n",
        "print(\"sum stat\")\n",
        "df_filtered[[\"height_bin0\"]].describe()\n",
        "\n"
      ],
      "execution_count": 14,
      "outputs": [
        {
          "output_type": "display_data",
          "data": {
            "text/plain": [
              "983        1.835108\n",
              "985        1.947553\n",
              "988        1.610272\n",
              "989        2.322144\n",
              "992        2.134899\n",
              "             ...   \n",
              "4897773    2.884389\n",
              "4897774    1.910163\n",
              "4897886    1.985130\n",
              "4897889    1.985118\n",
              "4897893    1.460546\n",
              "Name: height_bin0, Length: 2694756, dtype: float64"
            ]
          },
          "metadata": {
            "tags": []
          }
        },
        {
          "output_type": "stream",
          "text": [
            "sum stat\n"
          ],
          "name": "stdout"
        },
        {
          "output_type": "execute_result",
          "data": {
            "text/html": [
              "<div>\n",
              "<style scoped>\n",
              "    .dataframe tbody tr th:only-of-type {\n",
              "        vertical-align: middle;\n",
              "    }\n",
              "\n",
              "    .dataframe tbody tr th {\n",
              "        vertical-align: top;\n",
              "    }\n",
              "\n",
              "    .dataframe thead th {\n",
              "        text-align: right;\n",
              "    }\n",
              "</style>\n",
              "<table border=\"1\" class=\"dataframe\">\n",
              "  <thead>\n",
              "    <tr style=\"text-align: right;\">\n",
              "      <th></th>\n",
              "      <th>height_bin0</th>\n",
              "    </tr>\n",
              "  </thead>\n",
              "  <tbody>\n",
              "    <tr>\n",
              "      <th>count</th>\n",
              "      <td>2.694756e+06</td>\n",
              "    </tr>\n",
              "    <tr>\n",
              "      <th>mean</th>\n",
              "      <td>7.878922e+00</td>\n",
              "    </tr>\n",
              "    <tr>\n",
              "      <th>std</th>\n",
              "      <td>9.862212e+00</td>\n",
              "    </tr>\n",
              "    <tr>\n",
              "      <th>min</th>\n",
              "      <td>1.792529e-01</td>\n",
              "    </tr>\n",
              "    <tr>\n",
              "      <th>25%</th>\n",
              "      <td>2.995103e+00</td>\n",
              "    </tr>\n",
              "    <tr>\n",
              "      <th>50%</th>\n",
              "      <td>3.705814e+00</td>\n",
              "    </tr>\n",
              "    <tr>\n",
              "      <th>75%</th>\n",
              "      <td>6.212164e+00</td>\n",
              "    </tr>\n",
              "    <tr>\n",
              "      <th>max</th>\n",
              "      <td>1.159616e+02</td>\n",
              "    </tr>\n",
              "  </tbody>\n",
              "</table>\n",
              "</div>"
            ],
            "text/plain": [
              "        height_bin0\n",
              "count  2.694756e+06\n",
              "mean   7.878922e+00\n",
              "std    9.862212e+00\n",
              "min    1.792529e-01\n",
              "25%    2.995103e+00\n",
              "50%    3.705814e+00\n",
              "75%    6.212164e+00\n",
              "max    1.159616e+02"
            ]
          },
          "metadata": {
            "tags": []
          },
          "execution_count": 14
        },
        {
          "output_type": "display_data",
          "data": {
            "image/png": "[encoded data removed]",
            "text/plain": [
              "<Figure size 432x288 with 1 Axes>"
            ]
          },
          "metadata": {
            "tags": [],
            "needs_background": "light"
          }
        }
      ]
    },
    {
      "cell_type": "markdown",
      "metadata": {
        "id": "W2ARgHYZHl7s",
        "colab_type": "text"
      },
      "source": [
        "# Dataframe---GEDI02_B_2019191143003_O03257_T01491_02_001_01"
      ]
    },
    {
      "cell_type": "code",
      "metadata": {
        "id": "Oi0wYq7BHu0J",
        "colab_type": "code",
        "colab": {
          "base_uri": "https://localhost:8080/",
          "height": 677
        },
        "outputId": "ea5a341d-0f3a-4b22-b6a9-60d6434c9221"
      },
      "source": [
        "df_2 = pd.read_csv('GEDI02_B_2019191143003_O03257_T01491_02_001_01.csv')\n",
        "\n",
        "#GEDI02_B_2019191143003_O03257_T01491_02_001_01\n",
        "display(df)\n",
        "##describe\n",
        "df.describe()\n",
        "##hightlight max\n",
        "#df.style.highlight_max()"
      ],
      "execution_count": 15,
      "outputs": [
        {
          "output_type": "display_data",
          "data": {
            "text/html": [
              "<div>\n",
              "<style scoped>\n",
              "    .dataframe tbody tr th:only-of-type {\n",
              "        vertical-align: middle;\n",
              "    }\n",
              "\n",
              "    .dataframe tbody tr th {\n",
              "        vertical-align: top;\n",
              "    }\n",
              "\n",
              "    .dataframe thead th {\n",
              "        text-align: right;\n",
              "    }\n",
              "</style>\n",
              "<table border=\"1\" class=\"dataframe\">\n",
              "  <thead>\n",
              "    <tr style=\"text-align: right;\">\n",
              "      <th></th>\n",
              "      <th>latitude_bin0</th>\n",
              "      <th>longitude_bin0</th>\n",
              "      <th>height_bin0</th>\n",
              "    </tr>\n",
              "  </thead>\n",
              "  <tbody>\n",
              "    <tr>\n",
              "      <th>0</th>\n",
              "      <td>-38.461961</td>\n",
              "      <td>-86.165724</td>\n",
              "      <td>-9999.0</td>\n",
              "    </tr>\n",
              "    <tr>\n",
              "      <th>1</th>\n",
              "      <td>-38.461796</td>\n",
              "      <td>-86.165471</td>\n",
              "      <td>-9999.0</td>\n",
              "    </tr>\n",
              "    <tr>\n",
              "      <th>2</th>\n",
              "      <td>-38.461634</td>\n",
              "      <td>-86.165222</td>\n",
              "      <td>-9999.0</td>\n",
              "    </tr>\n",
              "    <tr>\n",
              "      <th>3</th>\n",
              "      <td>-38.461471</td>\n",
              "      <td>-86.164970</td>\n",
              "      <td>-9999.0</td>\n",
              "    </tr>\n",
              "    <tr>\n",
              "      <th>4</th>\n",
              "      <td>-38.461306</td>\n",
              "      <td>-86.164717</td>\n",
              "      <td>-9999.0</td>\n",
              "    </tr>\n",
              "    <tr>\n",
              "      <th>...</th>\n",
              "      <td>...</td>\n",
              "      <td>...</td>\n",
              "      <td>...</td>\n",
              "    </tr>\n",
              "    <tr>\n",
              "      <th>4897908</th>\n",
              "      <td>-49.699118</td>\n",
              "      <td>-179.461988</td>\n",
              "      <td>-9999.0</td>\n",
              "    </tr>\n",
              "    <tr>\n",
              "      <th>4897909</th>\n",
              "      <td>-49.699273</td>\n",
              "      <td>-179.461238</td>\n",
              "      <td>-9999.0</td>\n",
              "    </tr>\n",
              "    <tr>\n",
              "      <th>4897910</th>\n",
              "      <td>-49.699427</td>\n",
              "      <td>-179.460487</td>\n",
              "      <td>-9999.0</td>\n",
              "    </tr>\n",
              "    <tr>\n",
              "      <th>4897911</th>\n",
              "      <td>-49.699582</td>\n",
              "      <td>-179.459737</td>\n",
              "      <td>-9999.0</td>\n",
              "    </tr>\n",
              "    <tr>\n",
              "      <th>4897912</th>\n",
              "      <td>-49.699737</td>\n",
              "      <td>-179.458986</td>\n",
              "      <td>-9999.0</td>\n",
              "    </tr>\n",
              "  </tbody>\n",
              "</table>\n",
              "<p>4897913 rows × 3 columns</p>\n",
              "</div>"
            ],
            "text/plain": [
              "         latitude_bin0  longitude_bin0  height_bin0\n",
              "0           -38.461961      -86.165724      -9999.0\n",
              "1           -38.461796      -86.165471      -9999.0\n",
              "2           -38.461634      -86.165222      -9999.0\n",
              "3           -38.461471      -86.164970      -9999.0\n",
              "4           -38.461306      -86.164717      -9999.0\n",
              "...                ...             ...          ...\n",
              "4897908     -49.699118     -179.461988      -9999.0\n",
              "4897909     -49.699273     -179.461238      -9999.0\n",
              "4897910     -49.699427     -179.460487      -9999.0\n",
              "4897911     -49.699582     -179.459737      -9999.0\n",
              "4897912     -49.699737     -179.458986      -9999.0\n",
              "\n",
              "[4897913 rows x 3 columns]"
            ]
          },
          "metadata": {
            "tags": []
          }
        },
        {
          "output_type": "execute_result",
          "data": {
            "text/html": [
              "<div>\n",
              "<style scoped>\n",
              "    .dataframe tbody tr th:only-of-type {\n",
              "        vertical-align: middle;\n",
              "    }\n",
              "\n",
              "    .dataframe tbody tr th {\n",
              "        vertical-align: top;\n",
              "    }\n",
              "\n",
              "    .dataframe thead th {\n",
              "        text-align: right;\n",
              "    }\n",
              "</style>\n",
              "<table border=\"1\" class=\"dataframe\">\n",
              "  <thead>\n",
              "    <tr style=\"text-align: right;\">\n",
              "      <th></th>\n",
              "      <th>latitude_bin0</th>\n",
              "      <th>longitude_bin0</th>\n",
              "      <th>height_bin0</th>\n",
              "    </tr>\n",
              "  </thead>\n",
              "  <tbody>\n",
              "    <tr>\n",
              "      <th>count</th>\n",
              "      <td>4.897912e+06</td>\n",
              "      <td>4.897912e+06</td>\n",
              "      <td>4.897913e+06</td>\n",
              "    </tr>\n",
              "    <tr>\n",
              "      <th>mean</th>\n",
              "      <td>4.938192e+00</td>\n",
              "      <td>4.375342e+01</td>\n",
              "      <td>-4.493370e+03</td>\n",
              "    </tr>\n",
              "    <tr>\n",
              "      <th>std</th>\n",
              "      <td>3.397380e+01</td>\n",
              "      <td>8.659090e+01</td>\n",
              "      <td>4.978179e+03</td>\n",
              "    </tr>\n",
              "    <tr>\n",
              "      <th>min</th>\n",
              "      <td>-5.179254e+01</td>\n",
              "      <td>-1.799999e+02</td>\n",
              "      <td>-9.999000e+03</td>\n",
              "    </tr>\n",
              "    <tr>\n",
              "      <th>25%</th>\n",
              "      <td>-2.585925e+01</td>\n",
              "      <td>-3.606090e+01</td>\n",
              "      <td>-9.999000e+03</td>\n",
              "    </tr>\n",
              "    <tr>\n",
              "      <th>50%</th>\n",
              "      <td>2.339320e+00</td>\n",
              "      <td>6.148598e+01</td>\n",
              "      <td>2.535034e+00</td>\n",
              "    </tr>\n",
              "    <tr>\n",
              "      <th>75%</th>\n",
              "      <td>3.919266e+01</td>\n",
              "      <td>1.187816e+02</td>\n",
              "      <td>3.782431e+00</td>\n",
              "    </tr>\n",
              "    <tr>\n",
              "      <th>max</th>\n",
              "      <td>5.181417e+01</td>\n",
              "      <td>1.800000e+02</td>\n",
              "      <td>1.159616e+02</td>\n",
              "    </tr>\n",
              "  </tbody>\n",
              "</table>\n",
              "</div>"
            ],
            "text/plain": [
              "       latitude_bin0  longitude_bin0   height_bin0\n",
              "count   4.897912e+06    4.897912e+06  4.897913e+06\n",
              "mean    4.938192e+00    4.375342e+01 -4.493370e+03\n",
              "std     3.397380e+01    8.659090e+01  4.978179e+03\n",
              "min    -5.179254e+01   -1.799999e+02 -9.999000e+03\n",
              "25%    -2.585925e+01   -3.606090e+01 -9.999000e+03\n",
              "50%     2.339320e+00    6.148598e+01  2.535034e+00\n",
              "75%     3.919266e+01    1.187816e+02  3.782431e+00\n",
              "max     5.181417e+01    1.800000e+02  1.159616e+02"
            ]
          },
          "metadata": {
            "tags": []
          },
          "execution_count": 15
        }
      ]
    },
    {
      "cell_type": "code",
      "metadata": {
        "id": "EziJjo8qH-sw",
        "colab_type": "code",
        "colab": {
          "base_uri": "https://localhost:8080/",
          "height": 768
        },
        "outputId": "df7b0f82-3938-40ff-c587-8b313e202537"
      },
      "source": [
        "# Filter all rows for which the player's \n",
        "# age is greater than or equal to 25 \n",
        "df_filtered_2 = df_2[df_2['height_bin0'] >= 0] \n",
        "#df_filtered = df[df['height_bin0'] != -9999] \n",
        "  \n",
        "# Print the new dataframe \n",
        "#print(df_filtered.head(15)) \n",
        "  \n",
        "# Print the shape of the dataframe \n",
        "#print(df_filtered.shape) \n",
        "\n",
        "\n",
        "\n",
        "# Import library and dataset\n",
        "import seaborn as sns\n",
        " \n",
        "Height_df_2 = df_filtered_2.loc[:,'height_bin0']\n",
        "display(Height_df_2)\n",
        "\n",
        "\n",
        "# Control the number of bins\n",
        "sns.distplot(Height_df_2, bins=20 )\n",
        "\n",
        "\n",
        "# # # Make boxplot for one group only\n",
        "# sns.boxplot( y=df[\"height_bin0\"] )\n",
        "# sns.plt.show()\n",
        "\n",
        "\n",
        "##sum stat\n",
        "print(\"sum stat\")\n",
        "df_filtered_2[[\"height_bin0\"]].describe()"
      ],
      "execution_count": 16,
      "outputs": [
        {
          "output_type": "display_data",
          "data": {
            "text/plain": [
              "837        2.547699\n",
              "838        2.510217\n",
              "839        2.547682\n",
              "840        2.772529\n",
              "841        2.472766\n",
              "             ...   \n",
              "3199450    3.322839\n",
              "3199451    3.210406\n",
              "3199452    3.247870\n",
              "3199453    3.210445\n",
              "3199454    3.285374\n",
              "Name: height_bin0, Length: 940600, dtype: float64"
            ]
          },
          "metadata": {
            "tags": []
          }
        },
        {
          "output_type": "stream",
          "text": [
            "sum stat\n"
          ],
          "name": "stdout"
        },
        {
          "output_type": "execute_result",
          "data": {
            "text/html": [
              "<div>\n",
              "<style scoped>\n",
              "    .dataframe tbody tr th:only-of-type {\n",
              "        vertical-align: middle;\n",
              "    }\n",
              "\n",
              "    .dataframe tbody tr th {\n",
              "        vertical-align: top;\n",
              "    }\n",
              "\n",
              "    .dataframe thead th {\n",
              "        text-align: right;\n",
              "    }\n",
              "</style>\n",
              "<table border=\"1\" class=\"dataframe\">\n",
              "  <thead>\n",
              "    <tr style=\"text-align: right;\">\n",
              "      <th></th>\n",
              "      <th>height_bin0</th>\n",
              "    </tr>\n",
              "  </thead>\n",
              "  <tbody>\n",
              "    <tr>\n",
              "      <th>count</th>\n",
              "      <td>940600.000000</td>\n",
              "    </tr>\n",
              "    <tr>\n",
              "      <th>mean</th>\n",
              "      <td>9.536746</td>\n",
              "    </tr>\n",
              "    <tr>\n",
              "      <th>std</th>\n",
              "      <td>12.135220</td>\n",
              "    </tr>\n",
              "    <tr>\n",
              "      <th>min</th>\n",
              "      <td>0.174189</td>\n",
              "    </tr>\n",
              "    <tr>\n",
              "      <th>25%</th>\n",
              "      <td>2.959992</td>\n",
              "    </tr>\n",
              "    <tr>\n",
              "      <th>50%</th>\n",
              "      <td>3.469963</td>\n",
              "    </tr>\n",
              "    <tr>\n",
              "      <th>75%</th>\n",
              "      <td>10.956868</td>\n",
              "    </tr>\n",
              "    <tr>\n",
              "      <th>max</th>\n",
              "      <td>121.168600</td>\n",
              "    </tr>\n",
              "  </tbody>\n",
              "</table>\n",
              "</div>"
            ],
            "text/plain": [
              "         height_bin0\n",
              "count  940600.000000\n",
              "mean        9.536746\n",
              "std        12.135220\n",
              "min         0.174189\n",
              "25%         2.959992\n",
              "50%         3.469963\n",
              "75%        10.956868\n",
              "max       121.168600"
            ]
          },
          "metadata": {
            "tags": []
          },
          "execution_count": 16
        },
        {
          "output_type": "display_data",
          "data": {
            "image/png": "[encoded data removed]",
            "text/plain": [
              "<Figure size 432x288 with 1 Axes>"
            ]
          },
          "metadata": {
            "tags": [],
            "needs_background": "light"
          }
        }
      ]
    }
  ]
}